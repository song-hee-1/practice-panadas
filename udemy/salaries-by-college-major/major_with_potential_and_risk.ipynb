{
 "cells": [
  {
   "cell_type": "markdown",
   "id": "b003f878",
   "metadata": {},
   "source": [
    "### 값 분류 및 열 추가하기: 잠재력이 가장 큰 전공 대 위험도가 가장 낮은 전공\n",
    "\n",
    "- 출처 : www.udemy.com/course/best-100-days-python/l"
   ]
  },
  {
   "cell_type": "code",
   "execution_count": 2,
   "id": "cd1167fd",
   "metadata": {},
   "outputs": [],
   "source": [
    "import pandas as pd"
   ]
  },
  {
   "cell_type": "code",
   "execution_count": 3,
   "id": "7cee777e",
   "metadata": {},
   "outputs": [],
   "source": [
    "df = pd.read_csv('data/salaries_by_college_major.csv')"
   ]
  },
  {
   "cell_type": "code",
   "execution_count": 4,
   "id": "45b82d9b",
   "metadata": {},
   "outputs": [],
   "source": [
    "clean_df = df.dropna()"
   ]
  },
  {
   "cell_type": "code",
   "execution_count": 5,
   "id": "f1a86b2a",
   "metadata": {},
   "outputs": [
    {
     "data": {
      "text/html": [
       "<div>\n",
       "<style scoped>\n",
       "    .dataframe tbody tr th:only-of-type {\n",
       "        vertical-align: middle;\n",
       "    }\n",
       "\n",
       "    .dataframe tbody tr th {\n",
       "        vertical-align: top;\n",
       "    }\n",
       "\n",
       "    .dataframe thead th {\n",
       "        text-align: right;\n",
       "    }\n",
       "</style>\n",
       "<table border=\"1\" class=\"dataframe\">\n",
       "  <thead>\n",
       "    <tr style=\"text-align: right;\">\n",
       "      <th></th>\n",
       "      <th>Undergraduate Major</th>\n",
       "      <th>Starting Median Salary</th>\n",
       "      <th>Mid-Career Median Salary</th>\n",
       "      <th>Mid-Career 10th Percentile Salary</th>\n",
       "      <th>Mid-Career 90th Percentile Salary</th>\n",
       "      <th>Group</th>\n",
       "    </tr>\n",
       "  </thead>\n",
       "  <tbody>\n",
       "    <tr>\n",
       "      <th>45</th>\n",
       "      <td>Political Science</td>\n",
       "      <td>40800.0</td>\n",
       "      <td>78200.0</td>\n",
       "      <td>41200.0</td>\n",
       "      <td>168000.0</td>\n",
       "      <td>HASS</td>\n",
       "    </tr>\n",
       "    <tr>\n",
       "      <th>46</th>\n",
       "      <td>Psychology</td>\n",
       "      <td>35900.0</td>\n",
       "      <td>60400.0</td>\n",
       "      <td>31600.0</td>\n",
       "      <td>127000.0</td>\n",
       "      <td>HASS</td>\n",
       "    </tr>\n",
       "    <tr>\n",
       "      <th>47</th>\n",
       "      <td>Religion</td>\n",
       "      <td>34100.0</td>\n",
       "      <td>52000.0</td>\n",
       "      <td>29700.0</td>\n",
       "      <td>96400.0</td>\n",
       "      <td>HASS</td>\n",
       "    </tr>\n",
       "    <tr>\n",
       "      <th>48</th>\n",
       "      <td>Sociology</td>\n",
       "      <td>36500.0</td>\n",
       "      <td>58200.0</td>\n",
       "      <td>30700.0</td>\n",
       "      <td>118000.0</td>\n",
       "      <td>HASS</td>\n",
       "    </tr>\n",
       "    <tr>\n",
       "      <th>49</th>\n",
       "      <td>Spanish</td>\n",
       "      <td>34000.0</td>\n",
       "      <td>53100.0</td>\n",
       "      <td>31000.0</td>\n",
       "      <td>96400.0</td>\n",
       "      <td>HASS</td>\n",
       "    </tr>\n",
       "  </tbody>\n",
       "</table>\n",
       "</div>"
      ],
      "text/plain": [
       "   Undergraduate Major  Starting Median Salary  Mid-Career Median Salary  \\\n",
       "45   Political Science                 40800.0                   78200.0   \n",
       "46          Psychology                 35900.0                   60400.0   \n",
       "47            Religion                 34100.0                   52000.0   \n",
       "48           Sociology                 36500.0                   58200.0   \n",
       "49             Spanish                 34000.0                   53100.0   \n",
       "\n",
       "    Mid-Career 10th Percentile Salary  Mid-Career 90th Percentile Salary Group  \n",
       "45                            41200.0                           168000.0  HASS  \n",
       "46                            31600.0                           127000.0  HASS  \n",
       "47                            29700.0                            96400.0  HASS  \n",
       "48                            30700.0                           118000.0  HASS  \n",
       "49                            31000.0                            96400.0  HASS  "
      ]
     },
     "execution_count": 5,
     "metadata": {},
     "output_type": "execute_result"
    }
   ],
   "source": [
    "clean_df.tail()"
   ]
  },
  {
   "cell_type": "markdown",
   "id": "963d0c06",
   "metadata": {},
   "source": [
    "#### 위험도가 가장 낮은 전공\n",
    "\n",
    "위험도 = 최저 급여와 최고 급여의 차이"
   ]
  },
  {
   "cell_type": "code",
   "execution_count": 13,
   "id": "10af8b16",
   "metadata": {},
   "outputs": [
    {
     "data": {
      "text/plain": [
       "0     109800.0\n",
       "1      96700.0\n",
       "2     113700.0\n",
       "3     104200.0\n",
       "4      85400.0\n",
       "5      96200.0\n",
       "6      98100.0\n",
       "7     108200.0\n",
       "8     122100.0\n",
       "9     102700.0\n",
       "10     84600.0\n",
       "11    105500.0\n",
       "12     95900.0\n",
       "13     98000.0\n",
       "14    114700.0\n",
       "15     74800.0\n",
       "16    116300.0\n",
       "17    159400.0\n",
       "18     72700.0\n",
       "19     98700.0\n",
       "20     99600.0\n",
       "21    102100.0\n",
       "22    147800.0\n",
       "23     70000.0\n",
       "24     92000.0\n",
       "25    111000.0\n",
       "26     76000.0\n",
       "27     66400.0\n",
       "28    112000.0\n",
       "29     88500.0\n",
       "30    115900.0\n",
       "31     84500.0\n",
       "32     71300.0\n",
       "33    118800.0\n",
       "34    106600.0\n",
       "35    100700.0\n",
       "36    132900.0\n",
       "37    137800.0\n",
       "38     99300.0\n",
       "39    107300.0\n",
       "40     50700.0\n",
       "41     65300.0\n",
       "42    132500.0\n",
       "43     57600.0\n",
       "44    122000.0\n",
       "45    126800.0\n",
       "46     95400.0\n",
       "47     66700.0\n",
       "48     87300.0\n",
       "49     65400.0\n",
       "dtype: float64"
      ]
     },
     "execution_count": 13,
     "metadata": {},
     "output_type": "execute_result"
    }
   ],
   "source": [
    "clean_df['Mid-Career 90th Percentile Salary'] - clean_df['Mid-Career 10th Percentilebb Salary']"
   ]
  },
  {
   "cell_type": "code",
   "execution_count": 14,
   "id": "f65322fc",
   "metadata": {},
   "outputs": [
    {
     "data": {
      "text/plain": [
       "0     109800.0\n",
       "1      96700.0\n",
       "2     113700.0\n",
       "3     104200.0\n",
       "4      85400.0\n",
       "5      96200.0\n",
       "6      98100.0\n",
       "7     108200.0\n",
       "8     122100.0\n",
       "9     102700.0\n",
       "10     84600.0\n",
       "11    105500.0\n",
       "12     95900.0\n",
       "13     98000.0\n",
       "14    114700.0\n",
       "15     74800.0\n",
       "16    116300.0\n",
       "17    159400.0\n",
       "18     72700.0\n",
       "19     98700.0\n",
       "20     99600.0\n",
       "21    102100.0\n",
       "22    147800.0\n",
       "23     70000.0\n",
       "24     92000.0\n",
       "25    111000.0\n",
       "26     76000.0\n",
       "27     66400.0\n",
       "28    112000.0\n",
       "29     88500.0\n",
       "30    115900.0\n",
       "31     84500.0\n",
       "32     71300.0\n",
       "33    118800.0\n",
       "34    106600.0\n",
       "35    100700.0\n",
       "36    132900.0\n",
       "37    137800.0\n",
       "38     99300.0\n",
       "39    107300.0\n",
       "40     50700.0\n",
       "41     65300.0\n",
       "42    132500.0\n",
       "43     57600.0\n",
       "44    122000.0\n",
       "45    126800.0\n",
       "46     95400.0\n",
       "47     66700.0\n",
       "48     87300.0\n",
       "49     65400.0\n",
       "dtype: float64"
      ]
     },
     "execution_count": 14,
     "metadata": {},
     "output_type": "execute_result"
    }
   ],
   "source": [
    "clean_df['Mid-Career 90th Percentile Salary'].subtract(clean_df['Mid-Career 10th Percentile Salary'])"
   ]
  },
  {
   "cell_type": "code",
   "execution_count": 15,
   "id": "8ab1d418",
   "metadata": {},
   "outputs": [],
   "source": [
    "spread_col = clean_df['Mid-Career 90th Percentile Salary'].subtract(clean_df['Mid-Career 10th Percentile Salary'])"
   ]
  },
  {
   "cell_type": "code",
   "execution_count": 16,
   "id": "812e76a7",
   "metadata": {},
   "outputs": [],
   "source": [
    "clean_df.insert(1, 'Spread', spread_col)"
   ]
  },
  {
   "cell_type": "code",
   "execution_count": 17,
   "id": "e1149c78",
   "metadata": {},
   "outputs": [
    {
     "data": {
      "text/html": [
       "<div>\n",
       "<style scoped>\n",
       "    .dataframe tbody tr th:only-of-type {\n",
       "        vertical-align: middle;\n",
       "    }\n",
       "\n",
       "    .dataframe tbody tr th {\n",
       "        vertical-align: top;\n",
       "    }\n",
       "\n",
       "    .dataframe thead th {\n",
       "        text-align: right;\n",
       "    }\n",
       "</style>\n",
       "<table border=\"1\" class=\"dataframe\">\n",
       "  <thead>\n",
       "    <tr style=\"text-align: right;\">\n",
       "      <th></th>\n",
       "      <th>Undergraduate Major</th>\n",
       "      <th>Spread</th>\n",
       "      <th>Starting Median Salary</th>\n",
       "      <th>Mid-Career Median Salary</th>\n",
       "      <th>Mid-Career 10th Percentile Salary</th>\n",
       "      <th>Mid-Career 90th Percentile Salary</th>\n",
       "      <th>Group</th>\n",
       "    </tr>\n",
       "  </thead>\n",
       "  <tbody>\n",
       "    <tr>\n",
       "      <th>0</th>\n",
       "      <td>Accounting</td>\n",
       "      <td>109800.0</td>\n",
       "      <td>46000.0</td>\n",
       "      <td>77100.0</td>\n",
       "      <td>42200.0</td>\n",
       "      <td>152000.0</td>\n",
       "      <td>Business</td>\n",
       "    </tr>\n",
       "    <tr>\n",
       "      <th>1</th>\n",
       "      <td>Aerospace Engineering</td>\n",
       "      <td>96700.0</td>\n",
       "      <td>57700.0</td>\n",
       "      <td>101000.0</td>\n",
       "      <td>64300.0</td>\n",
       "      <td>161000.0</td>\n",
       "      <td>STEM</td>\n",
       "    </tr>\n",
       "    <tr>\n",
       "      <th>2</th>\n",
       "      <td>Agriculture</td>\n",
       "      <td>113700.0</td>\n",
       "      <td>42600.0</td>\n",
       "      <td>71900.0</td>\n",
       "      <td>36300.0</td>\n",
       "      <td>150000.0</td>\n",
       "      <td>Business</td>\n",
       "    </tr>\n",
       "    <tr>\n",
       "      <th>3</th>\n",
       "      <td>Anthropology</td>\n",
       "      <td>104200.0</td>\n",
       "      <td>36800.0</td>\n",
       "      <td>61500.0</td>\n",
       "      <td>33800.0</td>\n",
       "      <td>138000.0</td>\n",
       "      <td>HASS</td>\n",
       "    </tr>\n",
       "    <tr>\n",
       "      <th>4</th>\n",
       "      <td>Architecture</td>\n",
       "      <td>85400.0</td>\n",
       "      <td>41600.0</td>\n",
       "      <td>76800.0</td>\n",
       "      <td>50600.0</td>\n",
       "      <td>136000.0</td>\n",
       "      <td>Business</td>\n",
       "    </tr>\n",
       "  </tbody>\n",
       "</table>\n",
       "</div>"
      ],
      "text/plain": [
       "     Undergraduate Major    Spread  Starting Median Salary  \\\n",
       "0             Accounting  109800.0                 46000.0   \n",
       "1  Aerospace Engineering   96700.0                 57700.0   \n",
       "2            Agriculture  113700.0                 42600.0   \n",
       "3           Anthropology  104200.0                 36800.0   \n",
       "4           Architecture   85400.0                 41600.0   \n",
       "\n",
       "   Mid-Career Median Salary  Mid-Career 10th Percentile Salary  \\\n",
       "0                   77100.0                            42200.0   \n",
       "1                  101000.0                            64300.0   \n",
       "2                   71900.0                            36300.0   \n",
       "3                   61500.0                            33800.0   \n",
       "4                   76800.0                            50600.0   \n",
       "\n",
       "   Mid-Career 90th Percentile Salary     Group  \n",
       "0                           152000.0  Business  \n",
       "1                           161000.0      STEM  \n",
       "2                           150000.0  Business  \n",
       "3                           138000.0      HASS  \n",
       "4                           136000.0  Business  "
      ]
     },
     "execution_count": 17,
     "metadata": {},
     "output_type": "execute_result"
    }
   ],
   "source": [
    "clean_df.head()"
   ]
  },
  {
   "cell_type": "markdown",
   "id": "6400b538",
   "metadata": {},
   "source": [
    "#### 가장 낮은 분포로 정렬"
   ]
  },
  {
   "cell_type": "code",
   "execution_count": 22,
   "id": "0f39d9d9",
   "metadata": {},
   "outputs": [
    {
     "data": {
      "text/html": [
       "<div>\n",
       "<style scoped>\n",
       "    .dataframe tbody tr th:only-of-type {\n",
       "        vertical-align: middle;\n",
       "    }\n",
       "\n",
       "    .dataframe tbody tr th {\n",
       "        vertical-align: top;\n",
       "    }\n",
       "\n",
       "    .dataframe thead th {\n",
       "        text-align: right;\n",
       "    }\n",
       "</style>\n",
       "<table border=\"1\" class=\"dataframe\">\n",
       "  <thead>\n",
       "    <tr style=\"text-align: right;\">\n",
       "      <th></th>\n",
       "      <th>Undergraduate Major</th>\n",
       "      <th>Spread</th>\n",
       "    </tr>\n",
       "  </thead>\n",
       "  <tbody>\n",
       "    <tr>\n",
       "      <th>17</th>\n",
       "      <td>Economics</td>\n",
       "      <td>159400.0</td>\n",
       "    </tr>\n",
       "    <tr>\n",
       "      <th>22</th>\n",
       "      <td>Finance</td>\n",
       "      <td>147800.0</td>\n",
       "    </tr>\n",
       "    <tr>\n",
       "      <th>37</th>\n",
       "      <td>Math</td>\n",
       "      <td>137800.0</td>\n",
       "    </tr>\n",
       "    <tr>\n",
       "      <th>36</th>\n",
       "      <td>Marketing</td>\n",
       "      <td>132900.0</td>\n",
       "    </tr>\n",
       "    <tr>\n",
       "      <th>42</th>\n",
       "      <td>Philosophy</td>\n",
       "      <td>132500.0</td>\n",
       "    </tr>\n",
       "  </tbody>\n",
       "</table>\n",
       "</div>"
      ],
      "text/plain": [
       "   Undergraduate Major    Spread\n",
       "17           Economics  159400.0\n",
       "22             Finance  147800.0\n",
       "37                Math  137800.0\n",
       "36           Marketing  132900.0\n",
       "42          Philosophy  132500.0"
      ]
     },
     "execution_count": 22,
     "metadata": {},
     "output_type": "execute_result"
    }
   ],
   "source": [
    "low_risk = clean_df.sort_values(\"Spread\") # ascending=False(default:True)\n",
    "low_risk[['Undergraduate Major', 'Spread']].head()"
   ]
  },
  {
   "cell_type": "markdown",
   "id": "ebefc818",
   "metadata": {},
   "source": [
    "#### 도전"
   ]
  },
  {
   "cell_type": "markdown",
   "id": "ed436319",
   "metadata": {},
   "source": [
    "Q> sort_values() 메소드를 사용하여 잠재력이 가장 높은 학위를 찾을 수 있을까요? 90번째 백분위수에서 가장 높은 값을 가진 상위 5 학위를 찾아 보세요.\n",
    "\n",
    "또한 급여에서 가장 큰 분포를 보이는 학위를 찾으십시오. 졸업 후 고소득자와 저소득자 사이 소득 차이가 가장 큰 전공은 무엇일까요."
   ]
  },
  {
   "cell_type": "markdown",
   "id": "58e7befe",
   "metadata": {},
   "source": [
    "##### 잠재력이 가장 높은 학위"
   ]
  },
  {
   "cell_type": "code",
   "execution_count": 30,
   "id": "2228353c",
   "metadata": {},
   "outputs": [
    {
     "data": {
      "text/plain": [
       "Undergraduate Major                  Economics\n",
       "Spread                                159400.0\n",
       "Starting Median Salary                 50100.0\n",
       "Mid-Career Median Salary               98600.0\n",
       "Mid-Career 10th Percentile Salary      50600.0\n",
       "Mid-Career 90th Percentile Salary     210000.0\n",
       "Group                                 Business\n",
       "Name: 17, dtype: object"
      ]
     },
     "execution_count": 30,
     "metadata": {},
     "output_type": "execute_result"
    }
   ],
   "source": [
    "clean_df.loc[clean_df['Spread'].idxmax()]"
   ]
  },
  {
   "cell_type": "code",
   "execution_count": 6,
   "id": "56df7022",
   "metadata": {},
   "outputs": [
    {
     "data": {
      "text/html": [
       "<div>\n",
       "<style scoped>\n",
       "    .dataframe tbody tr th:only-of-type {\n",
       "        vertical-align: middle;\n",
       "    }\n",
       "\n",
       "    .dataframe tbody tr th {\n",
       "        vertical-align: top;\n",
       "    }\n",
       "\n",
       "    .dataframe thead th {\n",
       "        text-align: right;\n",
       "    }\n",
       "</style>\n",
       "<table border=\"1\" class=\"dataframe\">\n",
       "  <thead>\n",
       "    <tr style=\"text-align: right;\">\n",
       "      <th></th>\n",
       "      <th>Undergraduate Major</th>\n",
       "      <th>Mid-Career 90th Percentile Salary</th>\n",
       "    </tr>\n",
       "  </thead>\n",
       "  <tbody>\n",
       "    <tr>\n",
       "      <th>17</th>\n",
       "      <td>Economics</td>\n",
       "      <td>210000.0</td>\n",
       "    </tr>\n",
       "    <tr>\n",
       "      <th>22</th>\n",
       "      <td>Finance</td>\n",
       "      <td>195000.0</td>\n",
       "    </tr>\n",
       "    <tr>\n",
       "      <th>8</th>\n",
       "      <td>Chemical Engineering</td>\n",
       "      <td>194000.0</td>\n",
       "    </tr>\n",
       "    <tr>\n",
       "      <th>37</th>\n",
       "      <td>Math</td>\n",
       "      <td>183000.0</td>\n",
       "    </tr>\n",
       "    <tr>\n",
       "      <th>44</th>\n",
       "      <td>Physics</td>\n",
       "      <td>178000.0</td>\n",
       "    </tr>\n",
       "  </tbody>\n",
       "</table>\n",
       "</div>"
      ],
      "text/plain": [
       "     Undergraduate Major  Mid-Career 90th Percentile Salary\n",
       "17             Economics                           210000.0\n",
       "22               Finance                           195000.0\n",
       "8   Chemical Engineering                           194000.0\n",
       "37                  Math                           183000.0\n",
       "44               Physics                           178000.0"
      ]
     },
     "execution_count": 6,
     "metadata": {},
     "output_type": "execute_result"
    }
   ],
   "source": [
    "# ans\n",
    "highest_potential = clean_df.sort_values('Mid-Career 90th Percentile Salary', ascending=False)\n",
    "highest_potential[['Undergraduate Major', 'Mid-Career 90th Percentile Salary']].head()"
   ]
  },
  {
   "cell_type": "markdown",
   "id": "08d7ae27",
   "metadata": {},
   "source": [
    "##### 90번째 백분위수에서 가장 높은 값을 가진 상위 5 학위"
   ]
  },
  {
   "cell_type": "code",
   "execution_count": 35,
   "id": "f424812b",
   "metadata": {},
   "outputs": [
    {
     "data": {
      "text/html": [
       "<div>\n",
       "<style scoped>\n",
       "    .dataframe tbody tr th:only-of-type {\n",
       "        vertical-align: middle;\n",
       "    }\n",
       "\n",
       "    .dataframe tbody tr th {\n",
       "        vertical-align: top;\n",
       "    }\n",
       "\n",
       "    .dataframe thead th {\n",
       "        text-align: right;\n",
       "    }\n",
       "</style>\n",
       "<table border=\"1\" class=\"dataframe\">\n",
       "  <thead>\n",
       "    <tr style=\"text-align: right;\">\n",
       "      <th></th>\n",
       "      <th>Undergraduate Major</th>\n",
       "      <th>Spread</th>\n",
       "      <th>Starting Median Salary</th>\n",
       "      <th>Mid-Career Median Salary</th>\n",
       "      <th>Mid-Career 10th Percentile Salary</th>\n",
       "      <th>Mid-Career 90th Percentile Salary</th>\n",
       "      <th>Group</th>\n",
       "    </tr>\n",
       "  </thead>\n",
       "  <tbody>\n",
       "    <tr>\n",
       "      <th>17</th>\n",
       "      <td>Economics</td>\n",
       "      <td>159400.0</td>\n",
       "      <td>50100.0</td>\n",
       "      <td>98600.0</td>\n",
       "      <td>50600.0</td>\n",
       "      <td>210000.0</td>\n",
       "      <td>Business</td>\n",
       "    </tr>\n",
       "    <tr>\n",
       "      <th>22</th>\n",
       "      <td>Finance</td>\n",
       "      <td>147800.0</td>\n",
       "      <td>47900.0</td>\n",
       "      <td>88300.0</td>\n",
       "      <td>47200.0</td>\n",
       "      <td>195000.0</td>\n",
       "      <td>Business</td>\n",
       "    </tr>\n",
       "    <tr>\n",
       "      <th>8</th>\n",
       "      <td>Chemical Engineering</td>\n",
       "      <td>122100.0</td>\n",
       "      <td>63200.0</td>\n",
       "      <td>107000.0</td>\n",
       "      <td>71900.0</td>\n",
       "      <td>194000.0</td>\n",
       "      <td>STEM</td>\n",
       "    </tr>\n",
       "    <tr>\n",
       "      <th>37</th>\n",
       "      <td>Math</td>\n",
       "      <td>137800.0</td>\n",
       "      <td>45400.0</td>\n",
       "      <td>92400.0</td>\n",
       "      <td>45200.0</td>\n",
       "      <td>183000.0</td>\n",
       "      <td>STEM</td>\n",
       "    </tr>\n",
       "    <tr>\n",
       "      <th>44</th>\n",
       "      <td>Physics</td>\n",
       "      <td>122000.0</td>\n",
       "      <td>50300.0</td>\n",
       "      <td>97300.0</td>\n",
       "      <td>56000.0</td>\n",
       "      <td>178000.0</td>\n",
       "      <td>STEM</td>\n",
       "    </tr>\n",
       "  </tbody>\n",
       "</table>\n",
       "</div>"
      ],
      "text/plain": [
       "     Undergraduate Major    Spread  Starting Median Salary  \\\n",
       "17             Economics  159400.0                 50100.0   \n",
       "22               Finance  147800.0                 47900.0   \n",
       "8   Chemical Engineering  122100.0                 63200.0   \n",
       "37                  Math  137800.0                 45400.0   \n",
       "44               Physics  122000.0                 50300.0   \n",
       "\n",
       "    Mid-Career Median Salary  Mid-Career 10th Percentile Salary  \\\n",
       "17                   98600.0                            50600.0   \n",
       "22                   88300.0                            47200.0   \n",
       "8                   107000.0                            71900.0   \n",
       "37                   92400.0                            45200.0   \n",
       "44                   97300.0                            56000.0   \n",
       "\n",
       "    Mid-Career 90th Percentile Salary     Group  \n",
       "17                           210000.0  Business  \n",
       "22                           195000.0  Business  \n",
       "8                            194000.0      STEM  \n",
       "37                           183000.0      STEM  \n",
       "44                           178000.0      STEM  "
      ]
     },
     "execution_count": 35,
     "metadata": {},
     "output_type": "execute_result"
    }
   ],
   "source": [
    "clean_df.nlargest(5, 'Mid-Career 90th Percentile Salary')"
   ]
  },
  {
   "cell_type": "code",
   "execution_count": 8,
   "id": "aa762eb5",
   "metadata": {},
   "outputs": [],
   "source": [
    "clean_df = clean_df.sort_values(by='Mid-Career 90th Percentile Salary', ascending=False).head(5)"
   ]
  },
  {
   "cell_type": "code",
   "execution_count": 41,
   "id": "1259afb0",
   "metadata": {},
   "outputs": [
    {
     "data": {
      "text/plain": [
       "17    210000.0\n",
       "22    195000.0\n",
       "8     194000.0\n",
       "37    183000.0\n",
       "44    178000.0\n",
       "Name: Mid-Career 90th Percentile Salary, dtype: float64"
      ]
     },
     "execution_count": 41,
     "metadata": {},
     "output_type": "execute_result"
    }
   ],
   "source": [
    "clean_df['Mid-Career 90th Percentile Salary'].nlargest(n=5)"
   ]
  },
  {
   "cell_type": "markdown",
   "id": "84bdb33d",
   "metadata": {},
   "source": [
    "##### 급여에서 가장 큰 분포를 보이는 학위"
   ]
  },
  {
   "cell_type": "code",
   "execution_count": 13,
   "id": "469c45eb",
   "metadata": {},
   "outputs": [],
   "source": [
    "# highest_spread = clean_df.sort_values(by='Spread', ascending=False).head()\n",
    "# highest_spread[['Undergraduate Major', 'Spread']].head()"
   ]
  },
  {
   "cell_type": "markdown",
   "id": "c5001fe3",
   "metadata": {},
   "source": [
    "##### 판다스를 이용한 그룹화 및 피벗"
   ]
  },
  {
   "cell_type": "code",
   "execution_count": 14,
   "id": "95410324",
   "metadata": {},
   "outputs": [
    {
     "data": {
      "text/html": [
       "<div>\n",
       "<style scoped>\n",
       "    .dataframe tbody tr th:only-of-type {\n",
       "        vertical-align: middle;\n",
       "    }\n",
       "\n",
       "    .dataframe tbody tr th {\n",
       "        vertical-align: top;\n",
       "    }\n",
       "\n",
       "    .dataframe thead th {\n",
       "        text-align: right;\n",
       "    }\n",
       "</style>\n",
       "<table border=\"1\" class=\"dataframe\">\n",
       "  <thead>\n",
       "    <tr style=\"text-align: right;\">\n",
       "      <th></th>\n",
       "      <th>Undergraduate Major</th>\n",
       "      <th>Starting Median Salary</th>\n",
       "      <th>Mid-Career Median Salary</th>\n",
       "      <th>Mid-Career 10th Percentile Salary</th>\n",
       "      <th>Mid-Career 90th Percentile Salary</th>\n",
       "    </tr>\n",
       "    <tr>\n",
       "      <th>Group</th>\n",
       "      <th></th>\n",
       "      <th></th>\n",
       "      <th></th>\n",
       "      <th></th>\n",
       "      <th></th>\n",
       "    </tr>\n",
       "  </thead>\n",
       "  <tbody>\n",
       "    <tr>\n",
       "      <th>Business</th>\n",
       "      <td>2</td>\n",
       "      <td>2</td>\n",
       "      <td>2</td>\n",
       "      <td>2</td>\n",
       "      <td>2</td>\n",
       "    </tr>\n",
       "    <tr>\n",
       "      <th>STEM</th>\n",
       "      <td>3</td>\n",
       "      <td>3</td>\n",
       "      <td>3</td>\n",
       "      <td>3</td>\n",
       "      <td>3</td>\n",
       "    </tr>\n",
       "  </tbody>\n",
       "</table>\n",
       "</div>"
      ],
      "text/plain": [
       "          Undergraduate Major  Starting Median Salary  \\\n",
       "Group                                                   \n",
       "Business                    2                       2   \n",
       "STEM                        3                       3   \n",
       "\n",
       "          Mid-Career Median Salary  Mid-Career 10th Percentile Salary  \\\n",
       "Group                                                                   \n",
       "Business                         2                                  2   \n",
       "STEM                             3                                  3   \n",
       "\n",
       "          Mid-Career 90th Percentile Salary  \n",
       "Group                                        \n",
       "Business                                  2  \n",
       "STEM                                      3  "
      ]
     },
     "execution_count": 14,
     "metadata": {},
     "output_type": "execute_result"
    }
   ],
   "source": [
    "# 그룹별 평균 봉급\n",
    "\n",
    "clean_df.groupby('Group').count()"
   ]
  },
  {
   "cell_type": "code",
   "execution_count": 16,
   "id": "aef5e18b",
   "metadata": {},
   "outputs": [
    {
     "name": "stderr",
     "output_type": "stream",
     "text": [
      "/var/folders/qb/9ghy845j1v999lxpxzlv__9r0000gn/T/ipykernel_9908/1335618228.py:2: FutureWarning: The default value of numeric_only in DataFrameGroupBy.mean is deprecated. In a future version, numeric_only will default to False. Either specify numeric_only or select only columns which should be valid for the function.\n",
      "  clean_df.groupby('Group').mean()\n"
     ]
    },
    {
     "data": {
      "text/html": [
       "<div>\n",
       "<style scoped>\n",
       "    .dataframe tbody tr th:only-of-type {\n",
       "        vertical-align: middle;\n",
       "    }\n",
       "\n",
       "    .dataframe tbody tr th {\n",
       "        vertical-align: top;\n",
       "    }\n",
       "\n",
       "    .dataframe thead th {\n",
       "        text-align: right;\n",
       "    }\n",
       "</style>\n",
       "<table border=\"1\" class=\"dataframe\">\n",
       "  <thead>\n",
       "    <tr style=\"text-align: right;\">\n",
       "      <th></th>\n",
       "      <th>Starting Median Salary</th>\n",
       "      <th>Mid-Career Median Salary</th>\n",
       "      <th>Mid-Career 10th Percentile Salary</th>\n",
       "      <th>Mid-Career 90th Percentile Salary</th>\n",
       "    </tr>\n",
       "    <tr>\n",
       "      <th>Group</th>\n",
       "      <th></th>\n",
       "      <th></th>\n",
       "      <th></th>\n",
       "      <th></th>\n",
       "    </tr>\n",
       "  </thead>\n",
       "  <tbody>\n",
       "    <tr>\n",
       "      <th>Business</th>\n",
       "      <td>49,000.00</td>\n",
       "      <td>93,450.00</td>\n",
       "      <td>48,900.00</td>\n",
       "      <td>202,500.00</td>\n",
       "    </tr>\n",
       "    <tr>\n",
       "      <th>STEM</th>\n",
       "      <td>52,966.67</td>\n",
       "      <td>98,900.00</td>\n",
       "      <td>57,700.00</td>\n",
       "      <td>185,000.00</td>\n",
       "    </tr>\n",
       "  </tbody>\n",
       "</table>\n",
       "</div>"
      ],
      "text/plain": [
       "          Starting Median Salary  Mid-Career Median Salary  \\\n",
       "Group                                                        \n",
       "Business               49,000.00                 93,450.00   \n",
       "STEM                   52,966.67                 98,900.00   \n",
       "\n",
       "          Mid-Career 10th Percentile Salary  Mid-Career 90th Percentile Salary  \n",
       "Group                                                                           \n",
       "Business                          48,900.00                         202,500.00  \n",
       "STEM                              57,700.00                         185,000.00  "
      ]
     },
     "execution_count": 16,
     "metadata": {},
     "output_type": "execute_result"
    }
   ],
   "source": [
    "pd.options.display.float_format = '{:,.2f}'.format\n",
    "clean_df.groupby('Group').mean()"
   ]
  }
 ],
 "metadata": {
  "kernelspec": {
   "display_name": "Python 3 (ipykernel)",
   "language": "python",
   "name": "python3"
  },
  "language_info": {
   "codemirror_mode": {
    "name": "ipython",
    "version": 3
   },
   "file_extension": ".py",
   "mimetype": "text/x-python",
   "name": "python",
   "nbconvert_exporter": "python",
   "pygments_lexer": "ipython3",
   "version": "3.10.8"
  }
 },
 "nbformat": 4,
 "nbformat_minor": 5
}
