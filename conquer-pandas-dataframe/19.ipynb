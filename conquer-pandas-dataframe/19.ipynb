{
 "cells": [
  {
   "cell_type": "markdown",
   "id": "c63665b0",
   "metadata": {},
   "source": [
    "## 19. 형식 변환\n",
    "\n",
    "\n",
    "## 참고자료\n",
    "* [Python 완전정복 시리즈] 2편 : Pandas DataFrame 완전정복 : https://wikidocs.net/book/7188\n"
   ]
  },
  {
   "cell_type": "code",
   "execution_count": 19,
   "id": "a3b40bac",
   "metadata": {},
   "outputs": [],
   "source": [
    "import pandas as pd\n",
    "import numpy as np\n",
    "import math"
   ]
  },
  {
   "cell_type": "markdown",
   "id": "e84a19bf",
   "metadata": {},
   "source": [
    "## csv으로 변환 (to_csv)"
   ]
  },
  {
   "cell_type": "code",
   "execution_count": 3,
   "id": "80cb4b1e",
   "metadata": {},
   "outputs": [],
   "source": [
    "data = [[1,np.NaN],['A',4.1],['-','3']]\n",
    "df = pd.DataFrame(data)\n",
    "address = 'convert/'"
   ]
  },
  {
   "cell_type": "code",
   "execution_count": 4,
   "id": "c1d311f3",
   "metadata": {},
   "outputs": [],
   "source": [
    "df.to_csv(path_or_buf=address+'test1.csv')"
   ]
  },
  {
   "cell_type": "code",
   "execution_count": 5,
   "id": "69025d02",
   "metadata": {},
   "outputs": [],
   "source": [
    "df.to_csv(path_or_buf=address+'test2.csv', sep='-')"
   ]
  },
  {
   "cell_type": "code",
   "execution_count": 6,
   "id": "59793f87",
   "metadata": {},
   "outputs": [],
   "source": [
    "df.to_csv(path_or_buf=address+'test3.csv', na_rep=100)"
   ]
  },
  {
   "cell_type": "code",
   "execution_count": 7,
   "id": "7c93d830",
   "metadata": {},
   "outputs": [],
   "source": [
    "df.to_csv(path_or_buf=address+'test4.csv', float_format='%.2f')"
   ]
  },
  {
   "cell_type": "code",
   "execution_count": 9,
   "id": "12e18cd0",
   "metadata": {},
   "outputs": [],
   "source": [
    "df.to_csv(path_or_buf=address+'test5.csv', columns=[0])"
   ]
  },
  {
   "cell_type": "code",
   "execution_count": 10,
   "id": "1680d8a9",
   "metadata": {},
   "outputs": [],
   "source": [
    "df.to_csv(path_or_buf=address+'test6.csv', header=['col1','col2'])"
   ]
  },
  {
   "cell_type": "code",
   "execution_count": 11,
   "id": "cedc7d89",
   "metadata": {},
   "outputs": [],
   "source": [
    "df.to_csv(path_or_buf=address+'test7.csv', index=False) "
   ]
  },
  {
   "cell_type": "code",
   "execution_count": 12,
   "id": "0c42e7dd",
   "metadata": {},
   "outputs": [],
   "source": [
    "df.to_csv(path_or_buf=address+'test8.csv', index_label=['index'])"
   ]
  },
  {
   "cell_type": "code",
   "execution_count": 13,
   "id": "c640ee0c",
   "metadata": {},
   "outputs": [],
   "source": [
    "df.to_csv(path_or_buf=address+'test9.csv', mode='w') #기존 데이터 csv파일생성\n",
    "df2 = pd.DataFrame(data=[[7,8],[9,10]],index=[3,4]) # 추가 입력할 새 데이터 객체 생성\n",
    "df2.to_csv(path_or_buf=address+'test9.csv', mode='a') # mode=a로 기존데이터 아래에 추가함"
   ]
  },
  {
   "cell_type": "code",
   "execution_count": 14,
   "id": "7d854725",
   "metadata": {},
   "outputs": [],
   "source": [
    "df.to_csv(path_or_buf=address+'test10.csv', mode='w')\n",
    "df2.to_csv(path_or_buf=address+'test10.csv', mode='a',header=False)"
   ]
  },
  {
   "cell_type": "code",
   "execution_count": 15,
   "id": "4e329c32",
   "metadata": {},
   "outputs": [],
   "source": [
    "df.to_csv(path_or_buf=address+'test11.csv',quoting=2) # 숫자가 아닌 경우 인용구 처리"
   ]
  },
  {
   "cell_type": "code",
   "execution_count": 16,
   "id": "50df2dab",
   "metadata": {},
   "outputs": [],
   "source": [
    "df.to_csv(path_or_buf=address+'test12.csv',quoting=2,quotechar=\"-\")"
   ]
  },
  {
   "cell_type": "code",
   "execution_count": 17,
   "id": "ce502e3e",
   "metadata": {},
   "outputs": [],
   "source": [
    "df.to_csv(path_or_buf=address+'test13.csv',\n",
    "          quoting=2,quotechar=\"-\",doublequote=False,escapechar=\"$\")"
   ]
  },
  {
   "cell_type": "markdown",
   "id": "9543ecd3",
   "metadata": {},
   "source": [
    "## excel으로 변환 (to_excel)"
   ]
  },
  {
   "cell_type": "code",
   "execution_count": 24,
   "id": "42c250f3",
   "metadata": {},
   "outputs": [],
   "source": [
    "data1 = [[1,np.NaN],['A',4.1],[math.inf,'3']]\n",
    "df1 = pd.DataFrame(data1)\n",
    "df2 = pd.DataFrame(data=[[5,6],[7,8],[9,10]],index=[['A','B','B'],[3,4,5]]) #멀티인덱스 객체\n",
    "\n",
    "address = 'convert/'"
   ]
  },
  {
   "cell_type": "code",
   "execution_count": 21,
   "id": "7c6a9a6b",
   "metadata": {},
   "outputs": [
    {
     "data": {
      "text/html": [
       "<div>\n",
       "<style scoped>\n",
       "    .dataframe tbody tr th:only-of-type {\n",
       "        vertical-align: middle;\n",
       "    }\n",
       "\n",
       "    .dataframe tbody tr th {\n",
       "        vertical-align: top;\n",
       "    }\n",
       "\n",
       "    .dataframe thead th {\n",
       "        text-align: right;\n",
       "    }\n",
       "</style>\n",
       "<table border=\"1\" class=\"dataframe\">\n",
       "  <thead>\n",
       "    <tr style=\"text-align: right;\">\n",
       "      <th></th>\n",
       "      <th>0</th>\n",
       "      <th>1</th>\n",
       "    </tr>\n",
       "  </thead>\n",
       "  <tbody>\n",
       "    <tr>\n",
       "      <th>0</th>\n",
       "      <td>1</td>\n",
       "      <td>NaN</td>\n",
       "    </tr>\n",
       "    <tr>\n",
       "      <th>1</th>\n",
       "      <td>A</td>\n",
       "      <td>4.1</td>\n",
       "    </tr>\n",
       "    <tr>\n",
       "      <th>2</th>\n",
       "      <td>inf</td>\n",
       "      <td>3</td>\n",
       "    </tr>\n",
       "  </tbody>\n",
       "</table>\n",
       "</div>"
      ],
      "text/plain": [
       "     0    1\n",
       "0    1  NaN\n",
       "1    A  4.1\n",
       "2  inf    3"
      ]
     },
     "execution_count": 21,
     "metadata": {},
     "output_type": "execute_result"
    }
   ],
   "source": [
    "df1"
   ]
  },
  {
   "cell_type": "code",
   "execution_count": 22,
   "id": "e602ac82",
   "metadata": {},
   "outputs": [
    {
     "data": {
      "text/html": [
       "<div>\n",
       "<style scoped>\n",
       "    .dataframe tbody tr th:only-of-type {\n",
       "        vertical-align: middle;\n",
       "    }\n",
       "\n",
       "    .dataframe tbody tr th {\n",
       "        vertical-align: top;\n",
       "    }\n",
       "\n",
       "    .dataframe thead th {\n",
       "        text-align: right;\n",
       "    }\n",
       "</style>\n",
       "<table border=\"1\" class=\"dataframe\">\n",
       "  <thead>\n",
       "    <tr style=\"text-align: right;\">\n",
       "      <th></th>\n",
       "      <th></th>\n",
       "      <th>0</th>\n",
       "      <th>1</th>\n",
       "    </tr>\n",
       "  </thead>\n",
       "  <tbody>\n",
       "    <tr>\n",
       "      <th>A</th>\n",
       "      <th>3</th>\n",
       "      <td>5</td>\n",
       "      <td>6</td>\n",
       "    </tr>\n",
       "    <tr>\n",
       "      <th rowspan=\"2\" valign=\"top\">B</th>\n",
       "      <th>4</th>\n",
       "      <td>7</td>\n",
       "      <td>8</td>\n",
       "    </tr>\n",
       "    <tr>\n",
       "      <th>5</th>\n",
       "      <td>9</td>\n",
       "      <td>10</td>\n",
       "    </tr>\n",
       "  </tbody>\n",
       "</table>\n",
       "</div>"
      ],
      "text/plain": [
       "     0   1\n",
       "A 3  5   6\n",
       "B 4  7   8\n",
       "  5  9  10"
      ]
     },
     "execution_count": 22,
     "metadata": {},
     "output_type": "execute_result"
    }
   ],
   "source": [
    "df2"
   ]
  },
  {
   "cell_type": "code",
   "execution_count": 26,
   "id": "2422cfe2",
   "metadata": {},
   "outputs": [],
   "source": [
    "df1.to_excel(excel_writer=address+'test1.xlsx')"
   ]
  },
  {
   "cell_type": "code",
   "execution_count": 28,
   "id": "a092997c",
   "metadata": {},
   "outputs": [],
   "source": [
    "df1.to_excel(excel_writer=address+'test2.xlsx',sheet_name='test_sheet')"
   ]
  },
  {
   "cell_type": "code",
   "execution_count": 30,
   "id": "b9807257",
   "metadata": {},
   "outputs": [],
   "source": [
    "with pd.ExcelWriter(address+'test3.xlsx') as writer:\n",
    "    df1.to_excel(writer, sheet_name='test_sheet_1')\n",
    "    df2.to_excel(writer, sheet_name='test_sheet_2')"
   ]
  },
  {
   "cell_type": "code",
   "execution_count": 31,
   "id": "0b2d8127",
   "metadata": {},
   "outputs": [],
   "source": [
    "df1.to_excel(excel_writer=address+'test4.xlsx',na_rep='BLANK')"
   ]
  },
  {
   "cell_type": "code",
   "execution_count": 33,
   "id": "c8738ec9",
   "metadata": {},
   "outputs": [],
   "source": [
    "df1.to_excel(excel_writer=address+'test6.xlsx',columns=[0])"
   ]
  },
  {
   "cell_type": "code",
   "execution_count": 34,
   "id": "6dc44bf8",
   "metadata": {},
   "outputs": [],
   "source": [
    "df1.to_excel(excel_writer=address+'test7.xlsx',header=['col1','col2'])"
   ]
  },
  {
   "cell_type": "code",
   "execution_count": 35,
   "id": "a440a051",
   "metadata": {},
   "outputs": [],
   "source": [
    "df1.to_excel(excel_writer=address+'test8.xlsx', index=False)"
   ]
  },
  {
   "cell_type": "code",
   "execution_count": 36,
   "id": "096fdd29",
   "metadata": {},
   "outputs": [],
   "source": [
    "df2.to_excel(excel_writer=address+'test9.xlsx', index_label=['idx1','idx2'])"
   ]
  },
  {
   "cell_type": "code",
   "execution_count": 37,
   "id": "b2f3c7b3",
   "metadata": {},
   "outputs": [],
   "source": [
    "df1.to_excel(excel_writer=address+'test10.xlsx', startrow=2,startcol=4)"
   ]
  },
  {
   "cell_type": "code",
   "execution_count": 38,
   "id": "9409105a",
   "metadata": {},
   "outputs": [],
   "source": [
    "df2.to_excel(excel_writer=address+'test11_1.xlsx')"
   ]
  },
  {
   "cell_type": "code",
   "execution_count": 39,
   "id": "b2af28b4",
   "metadata": {},
   "outputs": [],
   "source": [
    "df2.to_excel(excel_writer=address+'test11_2.xlsx', merge_cells=False)"
   ]
  },
  {
   "cell_type": "code",
   "execution_count": 41,
   "id": "48c2ac91",
   "metadata": {},
   "outputs": [],
   "source": [
    "df1.to_excel(excel_writer=address+'test12.xlsx', inf_rep='∞')"
   ]
  },
  {
   "cell_type": "code",
   "execution_count": 42,
   "id": "c6b9b458",
   "metadata": {},
   "outputs": [],
   "source": [
    "df1.to_excel(excel_writer=address+'test13.xlsx', freeze_panes=(1,1))"
   ]
  },
  {
   "cell_type": "markdown",
   "id": "2343ea98",
   "metadata": {},
   "source": [
    "## 클립보드에 저장 (to_clipboard)"
   ]
  },
  {
   "cell_type": "code",
   "execution_count": 43,
   "id": "d39d6483",
   "metadata": {},
   "outputs": [
    {
     "data": {
      "text/html": [
       "<div>\n",
       "<style scoped>\n",
       "    .dataframe tbody tr th:only-of-type {\n",
       "        vertical-align: middle;\n",
       "    }\n",
       "\n",
       "    .dataframe tbody tr th {\n",
       "        vertical-align: top;\n",
       "    }\n",
       "\n",
       "    .dataframe thead th {\n",
       "        text-align: right;\n",
       "    }\n",
       "</style>\n",
       "<table border=\"1\" class=\"dataframe\">\n",
       "  <thead>\n",
       "    <tr style=\"text-align: right;\">\n",
       "      <th></th>\n",
       "      <th>0</th>\n",
       "      <th>1</th>\n",
       "    </tr>\n",
       "  </thead>\n",
       "  <tbody>\n",
       "    <tr>\n",
       "      <th>0</th>\n",
       "      <td>1</td>\n",
       "      <td>NaN</td>\n",
       "    </tr>\n",
       "    <tr>\n",
       "      <th>1</th>\n",
       "      <td>A</td>\n",
       "      <td>4.1</td>\n",
       "    </tr>\n",
       "    <tr>\n",
       "      <th>2</th>\n",
       "      <td>inf</td>\n",
       "      <td>3</td>\n",
       "    </tr>\n",
       "  </tbody>\n",
       "</table>\n",
       "</div>"
      ],
      "text/plain": [
       "     0    1\n",
       "0    1  NaN\n",
       "1    A  4.1\n",
       "2  inf    3"
      ]
     },
     "execution_count": 43,
     "metadata": {},
     "output_type": "execute_result"
    }
   ],
   "source": [
    "df = pd.DataFrame([[1,np.NaN],['A',4.1],[math.inf,'3']])\n",
    "df"
   ]
  },
  {
   "cell_type": "code",
   "execution_count": 44,
   "id": "7a1c2f7a",
   "metadata": {},
   "outputs": [],
   "source": [
    "df.to_clipboard()"
   ]
  },
  {
   "cell_type": "code",
   "execution_count": 45,
   "id": "edd4a1f8",
   "metadata": {},
   "outputs": [],
   "source": [
    "df.to_clipboard(excel=False)"
   ]
  },
  {
   "cell_type": "code",
   "execution_count": 47,
   "id": "90f4440a",
   "metadata": {},
   "outputs": [],
   "source": [
    "df.to_clipboard(sep='-')"
   ]
  },
  {
   "cell_type": "code",
   "execution_count": 48,
   "id": "9ce81bd0",
   "metadata": {},
   "outputs": [],
   "source": [
    "df.to_clipboard(header=['col1','col2'])"
   ]
  },
  {
   "cell_type": "markdown",
   "id": "09ddf7c4",
   "metadata": {},
   "source": [
    "## dict로 변환 (to_dict)"
   ]
  },
  {
   "cell_type": "code",
   "execution_count": 49,
   "id": "dba6e535",
   "metadata": {},
   "outputs": [
    {
     "data": {
      "text/html": [
       "<div>\n",
       "<style scoped>\n",
       "    .dataframe tbody tr th:only-of-type {\n",
       "        vertical-align: middle;\n",
       "    }\n",
       "\n",
       "    .dataframe tbody tr th {\n",
       "        vertical-align: top;\n",
       "    }\n",
       "\n",
       "    .dataframe thead th {\n",
       "        text-align: right;\n",
       "    }\n",
       "</style>\n",
       "<table border=\"1\" class=\"dataframe\">\n",
       "  <thead>\n",
       "    <tr style=\"text-align: right;\">\n",
       "      <th></th>\n",
       "      <th>col1</th>\n",
       "      <th>col2</th>\n",
       "    </tr>\n",
       "  </thead>\n",
       "  <tbody>\n",
       "    <tr>\n",
       "      <th>row1</th>\n",
       "      <td>1</td>\n",
       "      <td>2</td>\n",
       "    </tr>\n",
       "    <tr>\n",
       "      <th>row2</th>\n",
       "      <td>3</td>\n",
       "      <td>4</td>\n",
       "    </tr>\n",
       "  </tbody>\n",
       "</table>\n",
       "</div>"
      ],
      "text/plain": [
       "      col1  col2\n",
       "row1     1     2\n",
       "row2     3     4"
      ]
     },
     "execution_count": 49,
     "metadata": {},
     "output_type": "execute_result"
    }
   ],
   "source": [
    "df = pd.DataFrame([[1,2],[3,4]], columns=['col1','col2'],index=['row1','row2'])\n",
    "df"
   ]
  },
  {
   "cell_type": "code",
   "execution_count": 50,
   "id": "c47a4628",
   "metadata": {},
   "outputs": [
    {
     "data": {
      "text/plain": [
       "{'col1': {'row1': 1, 'row2': 3}, 'col2': {'row1': 2, 'row2': 4}}"
      ]
     },
     "execution_count": 50,
     "metadata": {},
     "output_type": "execute_result"
    }
   ],
   "source": [
    "df.to_dict(orient='dict')"
   ]
  },
  {
   "cell_type": "code",
   "execution_count": 51,
   "id": "b2dfda11",
   "metadata": {},
   "outputs": [
    {
     "data": {
      "text/plain": [
       "{'col1': [1, 3], 'col2': [2, 4]}"
      ]
     },
     "execution_count": 51,
     "metadata": {},
     "output_type": "execute_result"
    }
   ],
   "source": [
    "df.to_dict(orient='list')"
   ]
  },
  {
   "cell_type": "code",
   "execution_count": 52,
   "id": "f73fb4be",
   "metadata": {},
   "outputs": [
    {
     "data": {
      "text/plain": [
       "{'col1': row1    1\n",
       " row2    3\n",
       " Name: col1, dtype: int64,\n",
       " 'col2': row1    2\n",
       " row2    4\n",
       " Name: col2, dtype: int64}"
      ]
     },
     "execution_count": 52,
     "metadata": {},
     "output_type": "execute_result"
    }
   ],
   "source": [
    "df.to_dict(orient='series')"
   ]
  },
  {
   "cell_type": "code",
   "execution_count": 53,
   "id": "f07f9e3f",
   "metadata": {},
   "outputs": [
    {
     "data": {
      "text/plain": [
       "{'index': ['row1', 'row2'],\n",
       " 'columns': ['col1', 'col2'],\n",
       " 'data': [[1, 2], [3, 4]]}"
      ]
     },
     "execution_count": 53,
     "metadata": {},
     "output_type": "execute_result"
    }
   ],
   "source": [
    "df.to_dict(orient='split')"
   ]
  },
  {
   "cell_type": "code",
   "execution_count": 54,
   "id": "ede6ab63",
   "metadata": {},
   "outputs": [
    {
     "data": {
      "text/plain": [
       "[{'col1': 1, 'col2': 2}, {'col1': 3, 'col2': 4}]"
      ]
     },
     "execution_count": 54,
     "metadata": {},
     "output_type": "execute_result"
    }
   ],
   "source": [
    "df.to_dict(orient='records')"
   ]
  },
  {
   "cell_type": "code",
   "execution_count": 55,
   "id": "abc4f193",
   "metadata": {},
   "outputs": [
    {
     "data": {
      "text/plain": [
       "{'row1': {'col1': 1, 'col2': 2}, 'row2': {'col1': 3, 'col2': 4}}"
      ]
     },
     "execution_count": 55,
     "metadata": {},
     "output_type": "execute_result"
    }
   ],
   "source": [
    "df.to_dict(orient='index')"
   ]
  },
  {
   "cell_type": "markdown",
   "id": "8576abd5",
   "metadata": {},
   "source": [
    "## Markdown으로 변환 (to_markdown)"
   ]
  },
  {
   "cell_type": "code",
   "execution_count": 57,
   "id": "0324bc46",
   "metadata": {},
   "outputs": [
    {
     "data": {
      "text/html": [
       "<div>\n",
       "<style scoped>\n",
       "    .dataframe tbody tr th:only-of-type {\n",
       "        vertical-align: middle;\n",
       "    }\n",
       "\n",
       "    .dataframe tbody tr th {\n",
       "        vertical-align: top;\n",
       "    }\n",
       "\n",
       "    .dataframe thead th {\n",
       "        text-align: right;\n",
       "    }\n",
       "</style>\n",
       "<table border=\"1\" class=\"dataframe\">\n",
       "  <thead>\n",
       "    <tr style=\"text-align: right;\">\n",
       "      <th></th>\n",
       "      <th>col1</th>\n",
       "      <th>col2</th>\n",
       "    </tr>\n",
       "  </thead>\n",
       "  <tbody>\n",
       "    <tr>\n",
       "      <th>row1</th>\n",
       "      <td>1</td>\n",
       "      <td>2</td>\n",
       "    </tr>\n",
       "    <tr>\n",
       "      <th>row2</th>\n",
       "      <td>3</td>\n",
       "      <td>4</td>\n",
       "    </tr>\n",
       "  </tbody>\n",
       "</table>\n",
       "</div>"
      ],
      "text/plain": [
       "      col1  col2\n",
       "row1     1     2\n",
       "row2     3     4"
      ]
     },
     "execution_count": 57,
     "metadata": {},
     "output_type": "execute_result"
    }
   ],
   "source": [
    "df = pd.DataFrame([[1,2],[3,4]], columns=['col1','col2'],index=['row1','row2'])\n",
    "df"
   ]
  },
  {
   "cell_type": "code",
   "execution_count": 59,
   "id": "32fe9f8a",
   "metadata": {},
   "outputs": [
    {
     "name": "stdout",
     "output_type": "stream",
     "text": [
      "Collecting tabulate\n",
      "  Downloading tabulate-0.9.0-py3-none-any.whl (35 kB)\n",
      "Installing collected packages: tabulate\n",
      "Successfully installed tabulate-0.9.0\n",
      "\n",
      "\u001b[1m[\u001b[0m\u001b[34;49mnotice\u001b[0m\u001b[1;39;49m]\u001b[0m\u001b[39;49m A new release of pip available: \u001b[0m\u001b[31;49m22.2.2\u001b[0m\u001b[39;49m -> \u001b[0m\u001b[32;49m22.3.1\u001b[0m\n",
      "\u001b[1m[\u001b[0m\u001b[34;49mnotice\u001b[0m\u001b[1;39;49m]\u001b[0m\u001b[39;49m To update, run: \u001b[0m\u001b[32;49mpython3.10 -m pip install --upgrade pip\u001b[0m\n"
     ]
    }
   ],
   "source": [
    "!pip3 install tabulate"
   ]
  },
  {
   "cell_type": "code",
   "execution_count": 60,
   "id": "584f1978",
   "metadata": {},
   "outputs": [
    {
     "data": {
      "text/plain": [
       "'|      |   col1 |   col2 |\\n|:-----|-------:|-------:|\\n| row1 |      1 |      2 |\\n| row2 |      3 |      4 |'"
      ]
     },
     "execution_count": 60,
     "metadata": {},
     "output_type": "execute_result"
    }
   ],
   "source": [
    "df.to_markdown()"
   ]
  },
  {
   "cell_type": "code",
   "execution_count": 61,
   "id": "f2b587b9",
   "metadata": {},
   "outputs": [
    {
     "data": {
      "text/plain": [
       "'|   col1 |   col2 |\\n|-------:|-------:|\\n|      1 |      2 |\\n|      3 |      4 |'"
      ]
     },
     "execution_count": 61,
     "metadata": {},
     "output_type": "execute_result"
    }
   ],
   "source": [
    "df.to_markdown(index=False)"
   ]
  },
  {
   "cell_type": "code",
   "execution_count": 63,
   "id": "400bcac8",
   "metadata": {},
   "outputs": [
    {
     "data": {
      "text/plain": [
       "'╒══════╤════════╤════════╕\\n│      │   col1 │   col2 │\\n╞══════╪════════╪════════╡\\n│ row1 │      1 │      2 │\\n├──────┼────────┼────────┤\\n│ row2 │      3 │      4 │\\n╘══════╧════════╧════════╛'"
      ]
     },
     "execution_count": 63,
     "metadata": {},
     "output_type": "execute_result"
    }
   ],
   "source": [
    "df.to_markdown(tablefmt='fancy_grid')"
   ]
  },
  {
   "cell_type": "markdown",
   "id": "5e542933",
   "metadata": {},
   "source": [
    "## pickle객체로 변환 (to_csv)"
   ]
  },
  {
   "cell_type": "code",
   "execution_count": 67,
   "id": "8dfef4b9",
   "metadata": {},
   "outputs": [
    {
     "data": {
      "text/html": [
       "<div>\n",
       "<style scoped>\n",
       "    .dataframe tbody tr th:only-of-type {\n",
       "        vertical-align: middle;\n",
       "    }\n",
       "\n",
       "    .dataframe tbody tr th {\n",
       "        vertical-align: top;\n",
       "    }\n",
       "\n",
       "    .dataframe thead th {\n",
       "        text-align: right;\n",
       "    }\n",
       "</style>\n",
       "<table border=\"1\" class=\"dataframe\">\n",
       "  <thead>\n",
       "    <tr style=\"text-align: right;\">\n",
       "      <th></th>\n",
       "      <th>col1</th>\n",
       "      <th>col2</th>\n",
       "    </tr>\n",
       "  </thead>\n",
       "  <tbody>\n",
       "    <tr>\n",
       "      <th>row1</th>\n",
       "      <td>1</td>\n",
       "      <td>2</td>\n",
       "    </tr>\n",
       "    <tr>\n",
       "      <th>row2</th>\n",
       "      <td>3</td>\n",
       "      <td>4</td>\n",
       "    </tr>\n",
       "  </tbody>\n",
       "</table>\n",
       "</div>"
      ],
      "text/plain": [
       "      col1  col2\n",
       "row1     1     2\n",
       "row2     3     4"
      ]
     },
     "execution_count": 67,
     "metadata": {},
     "output_type": "execute_result"
    }
   ],
   "source": [
    "df = pd.DataFrame([[1,2],[3,4]], columns=['col1','col2'],index=['row1','row2'])\n",
    "df"
   ]
  },
  {
   "cell_type": "code",
   "execution_count": 68,
   "id": "d2317694",
   "metadata": {},
   "outputs": [],
   "source": [
    "df.to_pickle(address+'test1.pkl')"
   ]
  },
  {
   "cell_type": "code",
   "execution_count": 69,
   "id": "8994a1f2",
   "metadata": {},
   "outputs": [
    {
     "data": {
      "text/html": [
       "<div>\n",
       "<style scoped>\n",
       "    .dataframe tbody tr th:only-of-type {\n",
       "        vertical-align: middle;\n",
       "    }\n",
       "\n",
       "    .dataframe tbody tr th {\n",
       "        vertical-align: top;\n",
       "    }\n",
       "\n",
       "    .dataframe thead th {\n",
       "        text-align: right;\n",
       "    }\n",
       "</style>\n",
       "<table border=\"1\" class=\"dataframe\">\n",
       "  <thead>\n",
       "    <tr style=\"text-align: right;\">\n",
       "      <th></th>\n",
       "      <th>col1</th>\n",
       "      <th>col2</th>\n",
       "    </tr>\n",
       "  </thead>\n",
       "  <tbody>\n",
       "    <tr>\n",
       "      <th>row1</th>\n",
       "      <td>1</td>\n",
       "      <td>2</td>\n",
       "    </tr>\n",
       "    <tr>\n",
       "      <th>row2</th>\n",
       "      <td>3</td>\n",
       "      <td>4</td>\n",
       "    </tr>\n",
       "  </tbody>\n",
       "</table>\n",
       "</div>"
      ],
      "text/plain": [
       "      col1  col2\n",
       "row1     1     2\n",
       "row2     3     4"
      ]
     },
     "execution_count": 69,
     "metadata": {},
     "output_type": "execute_result"
    }
   ],
   "source": [
    "df2 = pd.read_pickle(address+'test1.pkl')\n",
    "df2"
   ]
  },
  {
   "cell_type": "markdown",
   "id": "261273f6",
   "metadata": {},
   "source": [
    "## html로 변환 (to_html)"
   ]
  },
  {
   "cell_type": "code",
   "execution_count": 70,
   "id": "3f86d71d",
   "metadata": {},
   "outputs": [
    {
     "data": {
      "text/html": [
       "<div>\n",
       "<style scoped>\n",
       "    .dataframe tbody tr th:only-of-type {\n",
       "        vertical-align: middle;\n",
       "    }\n",
       "\n",
       "    .dataframe tbody tr th {\n",
       "        vertical-align: top;\n",
       "    }\n",
       "\n",
       "    .dataframe thead th {\n",
       "        text-align: right;\n",
       "    }\n",
       "</style>\n",
       "<table border=\"1\" class=\"dataframe\">\n",
       "  <thead>\n",
       "    <tr style=\"text-align: right;\">\n",
       "      <th>index</th>\n",
       "      <th>col1</th>\n",
       "      <th>col2</th>\n",
       "    </tr>\n",
       "  </thead>\n",
       "  <tbody>\n",
       "    <tr>\n",
       "      <th>0</th>\n",
       "      <td>1</td>\n",
       "      <td>NaN</td>\n",
       "    </tr>\n",
       "    <tr>\n",
       "      <th>1</th>\n",
       "      <td>A</td>\n",
       "      <td>4.179</td>\n",
       "    </tr>\n",
       "    <tr>\n",
       "      <th>2</th>\n",
       "      <td>&lt;&amp;&gt;</td>\n",
       "      <td>32000.000</td>\n",
       "    </tr>\n",
       "  </tbody>\n",
       "</table>\n",
       "</div>"
      ],
      "text/plain": [
       "index col1       col2\n",
       "0        1        NaN\n",
       "1        A      4.179\n",
       "2      <&>  32000.000"
      ]
     },
     "execution_count": 70,
     "metadata": {},
     "output_type": "execute_result"
    }
   ],
   "source": [
    "data = [[1,np.NaN],['A',4.179],['<&>',32000]]\n",
    "df = pd.DataFrame(data,columns=['col1','col2'])\n",
    "df=df.rename_axis(columns='index')\n",
    "df"
   ]
  },
  {
   "cell_type": "code",
   "execution_count": 71,
   "id": "93e3f429",
   "metadata": {},
   "outputs": [
    {
     "data": {
      "text/plain": [
       "'<table border=\"1\" class=\"dataframe\">\\n  <thead>\\n    <tr style=\"text-align: right;\">\\n      <th>index</th>\\n      <th>col1</th>\\n      <th>col2</th>\\n    </tr>\\n  </thead>\\n  <tbody>\\n    <tr>\\n      <th>0</th>\\n      <td>1</td>\\n      <td>NaN</td>\\n    </tr>\\n    <tr>\\n      <th>1</th>\\n      <td>A</td>\\n      <td>4.179</td>\\n    </tr>\\n    <tr>\\n      <th>2</th>\\n      <td>&lt;&amp;&gt;</td>\\n      <td>32000.000</td>\\n    </tr>\\n  </tbody>\\n</table>'"
      ]
     },
     "execution_count": 71,
     "metadata": {},
     "output_type": "execute_result"
    }
   ],
   "source": [
    "df.to_html()"
   ]
  },
  {
   "cell_type": "code",
   "execution_count": 72,
   "id": "11e42bd6",
   "metadata": {},
   "outputs": [
    {
     "data": {
      "text/plain": [
       "'<table border=\"1\" class=\"dataframe\">\\n  <thead>\\n    <tr style=\"text-align: right;\">\\n      <th>index</th>\\n      <th>col1</th>\\n    </tr>\\n  </thead>\\n  <tbody>\\n    <tr>\\n      <th>0</th>\\n      <td>1</td>\\n    </tr>\\n    <tr>\\n      <th>1</th>\\n      <td>A</td>\\n    </tr>\\n    <tr>\\n      <th>2</th>\\n      <td>&lt;&amp;&gt;</td>\\n    </tr>\\n  </tbody>\\n</table>'"
      ]
     },
     "execution_count": 72,
     "metadata": {},
     "output_type": "execute_result"
    }
   ],
   "source": [
    "df.to_html(columns=['col1'])"
   ]
  },
  {
   "cell_type": "code",
   "execution_count": 73,
   "id": "b00e646a",
   "metadata": {},
   "outputs": [
    {
     "data": {
      "text/plain": [
       "'<table border=\"1\" class=\"dataframe\">\\n  <thead>\\n    <tr style=\"text-align: right;\">\\n      <th>index</th>\\n      <th style=\"min-width: 100px;\">col1</th>\\n      <th style=\"min-width: 200px;\">col2</th>\\n    </tr>\\n  </thead>\\n  <tbody>\\n    <tr>\\n      <th>0</th>\\n      <td>1</td>\\n      <td>NaN</td>\\n    </tr>\\n    <tr>\\n      <th>1</th>\\n      <td>A</td>\\n      <td>4.179</td>\\n    </tr>\\n    <tr>\\n      <th>2</th>\\n      <td>&lt;&amp;&gt;</td>\\n      <td>32000.000</td>\\n    </tr>\\n  </tbody>\\n</table>'"
      ]
     },
     "execution_count": 73,
     "metadata": {},
     "output_type": "execute_result"
    }
   ],
   "source": [
    "df.to_html(col_space=[100,200])"
   ]
  },
  {
   "cell_type": "code",
   "execution_count": 74,
   "id": "ac64fc12",
   "metadata": {},
   "outputs": [
    {
     "data": {
      "text/plain": [
       "'<table border=\"1\" class=\"dataframe\">\\n  <tbody>\\n    <tr>\\n      <td>1</td>\\n      <td>NaN</td>\\n    </tr>\\n    <tr>\\n      <td>A</td>\\n      <td>4.179</td>\\n    </tr>\\n    <tr>\\n      <td>&lt;&amp;&gt;</td>\\n      <td>32000.000</td>\\n    </tr>\\n  </tbody>\\n</table>'"
      ]
     },
     "execution_count": 74,
     "metadata": {},
     "output_type": "execute_result"
    }
   ],
   "source": [
    "df.to_html(header=False, index=False)"
   ]
  },
  {
   "cell_type": "code",
   "execution_count": 75,
   "id": "335c95d5",
   "metadata": {},
   "outputs": [
    {
     "data": {
      "text/plain": [
       "'<table border=\"1\" class=\"dataframe\">\\n  <thead>\\n    <tr style=\"text-align: right;\">\\n      <th>index</th>\\n      <th>col1</th>\\n      <th>col2</th>\\n    </tr>\\n  </thead>\\n  <tbody>\\n    <tr>\\n      <th>0</th>\\n      <td>1</td>\\n      <td>결측값</td>\\n    </tr>\\n    <tr>\\n      <th>1</th>\\n      <td>A</td>\\n      <td>4.179</td>\\n    </tr>\\n    <tr>\\n      <th>2</th>\\n      <td>&lt;&amp;&gt;</td>\\n      <td>32000.000</td>\\n    </tr>\\n  </tbody>\\n</table>'"
      ]
     },
     "execution_count": 75,
     "metadata": {},
     "output_type": "execute_result"
    }
   ],
   "source": [
    "df.to_html(na_rep=\"결측값\")"
   ]
  },
  {
   "cell_type": "code",
   "execution_count": 76,
   "id": "1d32b83f",
   "metadata": {},
   "outputs": [
    {
     "data": {
      "text/html": [
       "<div>\n",
       "<style scoped>\n",
       "    .dataframe tbody tr th:only-of-type {\n",
       "        vertical-align: middle;\n",
       "    }\n",
       "\n",
       "    .dataframe tbody tr th {\n",
       "        vertical-align: top;\n",
       "    }\n",
       "\n",
       "    .dataframe thead th {\n",
       "        text-align: right;\n",
       "    }\n",
       "</style>\n",
       "<table border=\"1\" class=\"dataframe\">\n",
       "  <thead>\n",
       "    <tr style=\"text-align: right;\">\n",
       "      <th></th>\n",
       "      <th>col</th>\n",
       "    </tr>\n",
       "  </thead>\n",
       "  <tbody>\n",
       "    <tr>\n",
       "      <th>0</th>\n",
       "      <td>1900-01-01 16:04:33.500</td>\n",
       "    </tr>\n",
       "    <tr>\n",
       "      <th>1</th>\n",
       "      <td>1900-01-01 17:30:00.000</td>\n",
       "    </tr>\n",
       "  </tbody>\n",
       "</table>\n",
       "</div>"
      ],
      "text/plain": [
       "                      col\n",
       "0 1900-01-01 16:04:33.500\n",
       "1 1900-01-01 17:30:00.000"
      ]
     },
     "execution_count": 76,
     "metadata": {},
     "output_type": "execute_result"
    }
   ],
   "source": [
    "time = pd.to_datetime(['16:04:33.500','17:30:00.000'],format='%H:%M:%S.%f')\n",
    "x = pd.DataFrame({'col':time})\n",
    "x"
   ]
  },
  {
   "cell_type": "code",
   "execution_count": 77,
   "id": "4e9bc944",
   "metadata": {},
   "outputs": [
    {
     "data": {
      "text/plain": [
       "'<table border=\"1\" class=\"dataframe\">\\n  <thead>\\n    <tr style=\"text-align: right;\">\\n      <th></th>\\n      <th>col</th>\\n    </tr>\\n  </thead>\\n  <tbody>\\n    <tr>\\n      <th>0</th>\\n      <td>16:04</td>\\n    </tr>\\n    <tr>\\n      <th>1</th>\\n      <td>17:30</td>\\n    </tr>\\n  </tbody>\\n</table>'"
      ]
     },
     "execution_count": 77,
     "metadata": {},
     "output_type": "execute_result"
    }
   ],
   "source": [
    "def format_func(x):\n",
    "    return x.strftime('%H:%M')\n",
    "result = x.to_html(formatters={'col':format_func})\n",
    "result"
   ]
  },
  {
   "cell_type": "code",
   "execution_count": 79,
   "id": "e223ab0e",
   "metadata": {},
   "outputs": [
    {
     "data": {
      "text/plain": [
       "'<table border=\"1\" class=\"dataframe\">\\n  <thead>\\n    <tr style=\"text-align: right;\">\\n      <th>index</th>\\n      <th>col1</th>\\n      <th>col2</th>\\n    </tr>\\n  </thead>\\n  <tbody>\\n    <tr>\\n      <th>0</th>\\n      <td>1</td>\\n      <td>NaN</td>\\n    </tr>\\n    <tr>\\n      <th>1</th>\\n      <td>A</td>\\n      <td>4.2</td>\\n    </tr>\\n    <tr>\\n      <th>2</th>\\n      <td>&lt;&amp;&gt;</td>\\n      <td>3.2e+04</td>\\n    </tr>\\n  </tbody>\\n</table>'"
      ]
     },
     "execution_count": 79,
     "metadata": {},
     "output_type": "execute_result"
    }
   ],
   "source": [
    "df.to_html(float_format='{0:.2g}'.format)"
   ]
  },
  {
   "cell_type": "code",
   "execution_count": 81,
   "id": "b2ca9eea",
   "metadata": {},
   "outputs": [
    {
     "data": {
      "text/plain": [
       "'<table border=\"1\" class=\"dataframe\">\\n  <thead>\\n    <tr style=\"text-align: right;\">\\n      <th></th>\\n      <th>col1</th>\\n      <th>col2</th>\\n    </tr>\\n  </thead>\\n  <tbody>\\n    <tr>\\n      <th>0</th>\\n      <td>1</td>\\n      <td>NaN</td>\\n    </tr>\\n    <tr>\\n      <th>1</th>\\n      <td>A</td>\\n      <td>4.179</td>\\n    </tr>\\n    <tr>\\n      <th>2</th>\\n      <td>&lt;&amp;&gt;</td>\\n      <td>32000.000</td>\\n    </tr>\\n  </tbody>\\n</table>'"
      ]
     },
     "execution_count": 81,
     "metadata": {},
     "output_type": "execute_result"
    }
   ],
   "source": [
    "df.to_html(index_names=False)"
   ]
  },
  {
   "cell_type": "code",
   "execution_count": 82,
   "id": "ef19f286",
   "metadata": {},
   "outputs": [
    {
     "name": "stdout",
     "output_type": "stream",
     "text": [
      "=====left====================\n",
      "<table border=\"1\" class=\"dataframe\">\n",
      "  <thead>\n",
      "    <tr style=\"text-align: left;\">\n",
      "      <th>index</th>\n",
      "      <th style=\"min-width: 100px;\">col1</th>\n",
      "      <th style=\"min-width: 100px;\">col2</th>\n",
      "    </tr>\n",
      "  </thead>\n",
      "  <tbody>\n",
      "    <tr>\n",
      "      <th>0</th>\n",
      "      <td>1</td>\n",
      "      <td>NaN</td>\n",
      "    </tr>\n",
      "    <tr>\n",
      "      <th>1</th>\n",
      "      <td>A</td>\n",
      "      <td>4.179</td>\n",
      "    </tr>\n",
      "    <tr>\n",
      "      <th>2</th>\n",
      "      <td>&lt;&amp;&gt;</td>\n",
      "      <td>32000.000</td>\n",
      "    </tr>\n",
      "  </tbody>\n",
      "</table>\n",
      "=====right====================\n",
      "<table border=\"1\" class=\"dataframe\">\n",
      "  <thead>\n",
      "    <tr style=\"text-align: right;\">\n",
      "      <th>index</th>\n",
      "      <th style=\"min-width: 100px;\">col1</th>\n",
      "      <th style=\"min-width: 100px;\">col2</th>\n",
      "    </tr>\n",
      "  </thead>\n",
      "  <tbody>\n",
      "    <tr>\n",
      "      <th>0</th>\n",
      "      <td>1</td>\n",
      "      <td>NaN</td>\n",
      "    </tr>\n",
      "    <tr>\n",
      "      <th>1</th>\n",
      "      <td>A</td>\n",
      "      <td>4.179</td>\n",
      "    </tr>\n",
      "    <tr>\n",
      "      <th>2</th>\n",
      "      <td>&lt;&amp;&gt;</td>\n",
      "      <td>32000.000</td>\n",
      "    </tr>\n",
      "  </tbody>\n",
      "</table>\n",
      "=====center====================\n",
      "<table border=\"1\" class=\"dataframe\">\n",
      "  <thead>\n",
      "    <tr style=\"text-align: center;\">\n",
      "      <th>index</th>\n",
      "      <th style=\"min-width: 100px;\">col1</th>\n",
      "      <th style=\"min-width: 100px;\">col2</th>\n",
      "    </tr>\n",
      "  </thead>\n",
      "  <tbody>\n",
      "    <tr>\n",
      "      <th>0</th>\n",
      "      <td>1</td>\n",
      "      <td>NaN</td>\n",
      "    </tr>\n",
      "    <tr>\n",
      "      <th>1</th>\n",
      "      <td>A</td>\n",
      "      <td>4.179</td>\n",
      "    </tr>\n",
      "    <tr>\n",
      "      <th>2</th>\n",
      "      <td>&lt;&amp;&gt;</td>\n",
      "      <td>32000.000</td>\n",
      "    </tr>\n",
      "  </tbody>\n",
      "</table>\n"
     ]
    }
   ],
   "source": [
    "print('====='+'left'+'='*20) # 구분을 위해 입력한 값입니다.\n",
    "print(df.to_html(col_space=[100,100], justify='left'))\n",
    "print('====='+'right'+'='*20)\n",
    "print(df.to_html(col_space=[100,100], justify='right'))\n",
    "print('====='+'center'+'='*20)\n",
    "print(df.to_html(col_space=[100,100], justify='center'))"
   ]
  },
  {
   "cell_type": "code",
   "execution_count": 101,
   "id": "7c8a520b",
   "metadata": {},
   "outputs": [
    {
     "data": {
      "text/plain": [
       "'<table border=\"1\" class=\"dataframe\">\\n  <thead>\\n    <tr style=\"text-align: right;\">\\n      <th>index</th>\\n      <th>col1</th>\\n      <th>col2</th>\\n    </tr>\\n  </thead>\\n  <tbody>\\n    <tr>\\n      <th>0</th>\\n      <td>1</td>\\n      <td>NaN</td>\\n    </tr>\\n    <tr>\\n      <th>...</th>\\n      <td>...</td>\\n      <td>...</td>\\n    </tr>\\n    <tr>\\n      <th>2</th>\\n      <td>&lt;&amp;&gt;</td>\\n      <td>32000.0</td>\\n    </tr>\\n  </tbody>\\n</table>'"
      ]
     },
     "execution_count": 101,
     "metadata": {},
     "output_type": "execute_result"
    }
   ],
   "source": [
    "df.to_html(max_rows=2)"
   ]
  },
  {
   "cell_type": "code",
   "execution_count": 102,
   "id": "b3e29f32",
   "metadata": {},
   "outputs": [
    {
     "data": {
      "text/plain": [
       "'<table border=\"1\" class=\"dataframe\">\\n  <thead>\\n    <tr style=\"text-align: right;\">\\n      <th>index</th>\\n      <th>col1</th>\\n      <th>...</th>\\n    </tr>\\n  </thead>\\n  <tbody>\\n    <tr>\\n      <th>0</th>\\n      <td>1</td>\\n      <td>...</td>\\n    </tr>\\n    <tr>\\n      <th>1</th>\\n      <td>A</td>\\n      <td>...</td>\\n    </tr>\\n    <tr>\\n      <th>2</th>\\n      <td>&lt;&amp;&gt;</td>\\n      <td>...</td>\\n    </tr>\\n  </tbody>\\n</table>'"
      ]
     },
     "execution_count": 102,
     "metadata": {},
     "output_type": "execute_result"
    }
   ],
   "source": [
    "df.to_html(max_cols=1)"
   ]
  },
  {
   "cell_type": "code",
   "execution_count": 103,
   "id": "6a99b5c3",
   "metadata": {},
   "outputs": [
    {
     "data": {
      "text/plain": [
       "'<table border=\"1\" class=\"dataframe\">\\n  <thead>\\n    <tr style=\"text-align: right;\">\\n      <th>index</th>\\n      <th>col1</th>\\n      <th>col2</th>\\n    </tr>\\n  </thead>\\n  <tbody>\\n    <tr>\\n      <th>0</th>\\n      <td>1</td>\\n      <td>NaN</td>\\n    </tr>\\n    <tr>\\n      <th>1</th>\\n      <td>A</td>\\n      <td>4.179</td>\\n    </tr>\\n    <tr>\\n      <th>2</th>\\n      <td>&lt;&amp;&gt;</td>\\n      <td>32000.000</td>\\n    </tr>\\n  </tbody>\\n</table>\\n<p>3 rows × 2 columns</p>'"
      ]
     },
     "execution_count": 103,
     "metadata": {},
     "output_type": "execute_result"
    }
   ],
   "source": [
    "df.to_html(show_dimensions=True)"
   ]
  },
  {
   "cell_type": "code",
   "execution_count": 104,
   "id": "63db9929",
   "metadata": {},
   "outputs": [
    {
     "data": {
      "text/plain": [
       "'<table border=\"1\" class=\"dataframe\">\\n  <thead>\\n    <tr style=\"text-align: right;\">\\n      <th>index</th>\\n      <th>col1</th>\\n      <th>col2</th>\\n    </tr>\\n  </thead>\\n  <tbody>\\n    <tr>\\n      <th>0</th>\\n      <td>1</td>\\n      <td>NaN</td>\\n    </tr>\\n    <tr>\\n      <th>1</th>\\n      <td>A</td>\\n      <td>4_179</td>\\n    </tr>\\n    <tr>\\n      <th>2</th>\\n      <td>&lt;&amp;&gt;</td>\\n      <td>32000_000</td>\\n    </tr>\\n  </tbody>\\n</table>'"
      ]
     },
     "execution_count": 104,
     "metadata": {},
     "output_type": "execute_result"
    }
   ],
   "source": [
    "df.to_html(decimal='_')"
   ]
  },
  {
   "cell_type": "code",
   "execution_count": 105,
   "id": "5eb3e658",
   "metadata": {},
   "outputs": [
    {
     "data": {
      "text/plain": [
       "'<table border=\"1\" class=\"dataframe\">\\n  <thead>\\n    <tr style=\"text-align: right;\">\\n      <th>index</th>\\n      <th>col1</th>\\n      <th>col2</th>\\n    </tr>\\n  </thead>\\n  <tbody>\\n    <tr>\\n      <td>0</td>\\n      <td>1</td>\\n      <td>NaN</td>\\n    </tr>\\n    <tr>\\n      <td>1</td>\\n      <td>A</td>\\n      <td>4.179</td>\\n    </tr>\\n    <tr>\\n      <td>2</td>\\n      <td>&lt;&amp;&gt;</td>\\n      <td>32000.000</td>\\n    </tr>\\n  </tbody>\\n</table>'"
      ]
     },
     "execution_count": 105,
     "metadata": {},
     "output_type": "execute_result"
    }
   ],
   "source": [
    "df.to_html(bold_rows=False)"
   ]
  },
  {
   "cell_type": "code",
   "execution_count": 106,
   "id": "8f7ab81c",
   "metadata": {},
   "outputs": [
    {
     "data": {
      "text/plain": [
       "'<table border=\"1\" class=\"dataframe test\">\\n  <thead>\\n    <tr style=\"text-align: right;\">\\n      <th>index</th>\\n      <th>col1</th>\\n      <th>col2</th>\\n    </tr>\\n  </thead>\\n  <tbody>\\n    <tr>\\n      <th>0</th>\\n      <td>1</td>\\n      <td>NaN</td>\\n    </tr>\\n    <tr>\\n      <th>1</th>\\n      <td>A</td>\\n      <td>4.179</td>\\n    </tr>\\n    <tr>\\n      <th>2</th>\\n      <td>&lt;&amp;&gt;</td>\\n      <td>32000.000</td>\\n    </tr>\\n  </tbody>\\n</table>'"
      ]
     },
     "execution_count": 106,
     "metadata": {},
     "output_type": "execute_result"
    }
   ],
   "source": [
    "df.to_html(classes='test')"
   ]
  },
  {
   "cell_type": "code",
   "execution_count": 107,
   "id": "af937524",
   "metadata": {},
   "outputs": [
    {
     "data": {
      "text/plain": [
       "'<table border=\"1\" class=\"dataframe\">\\n  <thead>\\n    <tr style=\"text-align: right;\">\\n      <th>index</th>\\n      <th>col1</th>\\n      <th>col2</th>\\n    </tr>\\n  </thead>\\n  <tbody>\\n    <tr>\\n      <th>0</th>\\n      <td>1</td>\\n      <td>NaN</td>\\n    </tr>\\n    <tr>\\n      <th>1</th>\\n      <td>A</td>\\n      <td>4.179</td>\\n    </tr>\\n    <tr>\\n      <th>2</th>\\n      <td><&></td>\\n      <td>32000.000</td>\\n    </tr>\\n  </tbody>\\n</table>'"
      ]
     },
     "execution_count": 107,
     "metadata": {},
     "output_type": "execute_result"
    }
   ],
   "source": [
    "df.to_html(escape=False)"
   ]
  },
  {
   "cell_type": "code",
   "execution_count": 108,
   "id": "5c7429a8",
   "metadata": {},
   "outputs": [
    {
     "data": {
      "text/plain": [
       "'<table border=\"2\" class=\"dataframe\">\\n  <thead>\\n    <tr style=\"text-align: right;\">\\n      <th>index</th>\\n      <th>col1</th>\\n      <th>col2</th>\\n    </tr>\\n  </thead>\\n  <tbody>\\n    <tr>\\n      <th>0</th>\\n      <td>1</td>\\n      <td>NaN</td>\\n    </tr>\\n    <tr>\\n      <th>1</th>\\n      <td>A</td>\\n      <td>4.179</td>\\n    </tr>\\n    <tr>\\n      <th>2</th>\\n      <td>&lt;&amp;&gt;</td>\\n      <td>32000.000</td>\\n    </tr>\\n  </tbody>\\n</table>'"
      ]
     },
     "execution_count": 108,
     "metadata": {},
     "output_type": "execute_result"
    }
   ],
   "source": [
    "df.to_html(border=2)"
   ]
  },
  {
   "cell_type": "code",
   "execution_count": 109,
   "id": "441734f2",
   "metadata": {},
   "outputs": [
    {
     "data": {
      "text/plain": [
       "'<table border=\"1\" class=\"dataframe\" id=\"test\">\\n  <thead>\\n    <tr style=\"text-align: right;\">\\n      <th>index</th>\\n      <th>col1</th>\\n      <th>col2</th>\\n    </tr>\\n  </thead>\\n  <tbody>\\n    <tr>\\n      <th>0</th>\\n      <td>1</td>\\n      <td>NaN</td>\\n    </tr>\\n    <tr>\\n      <th>1</th>\\n      <td>A</td>\\n      <td>4.179</td>\\n    </tr>\\n    <tr>\\n      <th>2</th>\\n      <td>&lt;&amp;&gt;</td>\\n      <td>32000.000</td>\\n    </tr>\\n  </tbody>\\n</table>'"
      ]
     },
     "execution_count": 109,
     "metadata": {},
     "output_type": "execute_result"
    }
   ],
   "source": [
    "df.to_html(table_id='test')"
   ]
  },
  {
   "cell_type": "markdown",
   "id": "1a32c21f",
   "metadata": {},
   "source": [
    "## string으로 변환 (to_string)"
   ]
  },
  {
   "cell_type": "code",
   "execution_count": 83,
   "id": "321ac722",
   "metadata": {},
   "outputs": [
    {
     "data": {
      "text/html": [
       "<div>\n",
       "<style scoped>\n",
       "    .dataframe tbody tr th:only-of-type {\n",
       "        vertical-align: middle;\n",
       "    }\n",
       "\n",
       "    .dataframe tbody tr th {\n",
       "        vertical-align: top;\n",
       "    }\n",
       "\n",
       "    .dataframe thead th {\n",
       "        text-align: right;\n",
       "    }\n",
       "</style>\n",
       "<table border=\"1\" class=\"dataframe\">\n",
       "  <thead>\n",
       "    <tr style=\"text-align: right;\">\n",
       "      <th>index</th>\n",
       "      <th>col1</th>\n",
       "      <th>col2</th>\n",
       "    </tr>\n",
       "  </thead>\n",
       "  <tbody>\n",
       "    <tr>\n",
       "      <th>0</th>\n",
       "      <td>1</td>\n",
       "      <td>NaN</td>\n",
       "    </tr>\n",
       "    <tr>\n",
       "      <th>1</th>\n",
       "      <td>A</td>\n",
       "      <td>4.179</td>\n",
       "    </tr>\n",
       "    <tr>\n",
       "      <th>2</th>\n",
       "      <td>&lt;&amp;&gt;</td>\n",
       "      <td>32000.000</td>\n",
       "    </tr>\n",
       "  </tbody>\n",
       "</table>\n",
       "</div>"
      ],
      "text/plain": [
       "index col1       col2\n",
       "0        1        NaN\n",
       "1        A      4.179\n",
       "2      <&>  32000.000"
      ]
     },
     "execution_count": 83,
     "metadata": {},
     "output_type": "execute_result"
    }
   ],
   "source": [
    "data = [[1,np.NaN],['A',4.179],['<&>',32000]]\n",
    "df = pd.DataFrame(data,columns=['col1','col2'])\n",
    "df=df.rename_axis(columns='index')\n",
    "df"
   ]
  },
  {
   "cell_type": "code",
   "execution_count": 84,
   "id": "ff41d0da",
   "metadata": {},
   "outputs": [
    {
     "data": {
      "text/plain": [
       "'index col1       col2\\n0        1        NaN\\n1        A      4.179\\n2      <&>  32000.000'"
      ]
     },
     "execution_count": 84,
     "metadata": {},
     "output_type": "execute_result"
    }
   ],
   "source": [
    "df.to_string()"
   ]
  },
  {
   "cell_type": "code",
   "execution_count": 85,
   "id": "bbdd8539",
   "metadata": {},
   "outputs": [
    {
     "data": {
      "text/plain": [
       "pandas.core.frame.DataFrame"
      ]
     },
     "execution_count": 85,
     "metadata": {},
     "output_type": "execute_result"
    }
   ],
   "source": [
    "type(df)"
   ]
  },
  {
   "cell_type": "code",
   "execution_count": 88,
   "id": "47389c7b",
   "metadata": {},
   "outputs": [
    {
     "data": {
      "text/plain": [
       "str"
      ]
     },
     "execution_count": 88,
     "metadata": {},
     "output_type": "execute_result"
    }
   ],
   "source": [
    "type(df.to_string())"
   ]
  },
  {
   "cell_type": "code",
   "execution_count": 89,
   "id": "a6c15402",
   "metadata": {},
   "outputs": [
    {
     "data": {
      "text/plain": [
       "'index       col2\\n0            NaN\\n1          4.179\\n2      32000.000'"
      ]
     },
     "execution_count": 89,
     "metadata": {},
     "output_type": "execute_result"
    }
   ],
   "source": [
    "df.to_string(columns=['col2'])"
   ]
  },
  {
   "cell_type": "code",
   "execution_count": 90,
   "id": "1d228284",
   "metadata": {},
   "outputs": [
    {
     "data": {
      "text/plain": [
       "'index       col1                 col2\\n0              1                  NaN\\n1              A                4.179\\n2            <&>            32000.000'"
      ]
     },
     "execution_count": 90,
     "metadata": {},
     "output_type": "execute_result"
    }
   ],
   "source": [
    "df.to_string(col_space=[10,20])"
   ]
  },
  {
   "cell_type": "code",
   "execution_count": 91,
   "id": "c44af864",
   "metadata": {},
   "outputs": [
    {
     "data": {
      "text/plain": [
       "'index val1       val2\\n0        1        NaN\\n1        A      4.179\\n2      <&>  32000.000'"
      ]
     },
     "execution_count": 91,
     "metadata": {},
     "output_type": "execute_result"
    }
   ],
   "source": [
    "df.to_string(header=['val1', 'val2'])"
   ]
  },
  {
   "cell_type": "code",
   "execution_count": 92,
   "id": "821dc040",
   "metadata": {},
   "outputs": [
    {
     "data": {
      "text/plain": [
       "'col1      col2\\n   1       NaN\\n   A     4.179\\n <&> 32000.000'"
      ]
     },
     "execution_count": 92,
     "metadata": {},
     "output_type": "execute_result"
    }
   ],
   "source": [
    "df.to_string(index=False)"
   ]
  },
  {
   "cell_type": "code",
   "execution_count": 93,
   "id": "0c7557f4",
   "metadata": {},
   "outputs": [
    {
     "data": {
      "text/plain": [
       "'index col1       col2\\n0        1         결측\\n1        A      4.179\\n2      <&>  32000.000'"
      ]
     },
     "execution_count": 93,
     "metadata": {},
     "output_type": "execute_result"
    }
   ],
   "source": [
    "df.to_string(na_rep='결측')"
   ]
  },
  {
   "cell_type": "code",
   "execution_count": 94,
   "id": "e68acd60",
   "metadata": {},
   "outputs": [
    {
     "data": {
      "text/plain": [
       "'index col1  col2     \\n0        1        NaN\\n1        A      4.179\\n2      <&>  32000.000'"
      ]
     },
     "execution_count": 94,
     "metadata": {},
     "output_type": "execute_result"
    }
   ],
   "source": [
    "df.to_string(justify='left')"
   ]
  },
  {
   "cell_type": "code",
   "execution_count": 95,
   "id": "f00d2991",
   "metadata": {},
   "outputs": [
    {
     "data": {
      "text/plain": [
       "'index col1     col2\\n0        1      NaN\\n..     ...      ...\\n2      <&>  32000.0'"
      ]
     },
     "execution_count": 95,
     "metadata": {},
     "output_type": "execute_result"
    }
   ],
   "source": [
    "df.to_string(max_rows=2)"
   ]
  },
  {
   "cell_type": "code",
   "execution_count": 96,
   "id": "38b1e601",
   "metadata": {},
   "outputs": [
    {
     "data": {
      "text/plain": [
       "'index col1  ...\\n0        1  ...\\n1        A  ...\\n2      <&>  ...'"
      ]
     },
     "execution_count": 96,
     "metadata": {},
     "output_type": "execute_result"
    }
   ],
   "source": [
    "df.to_string(max_cols=1)"
   ]
  },
  {
   "cell_type": "code",
   "execution_count": 97,
   "id": "6a925b0f",
   "metadata": {},
   "outputs": [
    {
     "data": {
      "text/plain": [
       "'index col1       col2\\n0        1        NaN\\n1        A      4.179\\n2      <&>  32000.000\\n\\n[3 rows x 2 columns]'"
      ]
     },
     "execution_count": 97,
     "metadata": {},
     "output_type": "execute_result"
    }
   ],
   "source": [
    "df.to_string(show_dimensions=True)"
   ]
  },
  {
   "cell_type": "code",
   "execution_count": 98,
   "id": "0d7eae30",
   "metadata": {},
   "outputs": [
    {
     "data": {
      "text/plain": [
       "'index col1       col2\\n0        1        NaN\\n1        A      4_179\\n2      <&>  32000_000'"
      ]
     },
     "execution_count": 98,
     "metadata": {},
     "output_type": "execute_result"
    }
   ],
   "source": [
    "df.to_string(decimal='_')"
   ]
  },
  {
   "cell_type": "code",
   "execution_count": 99,
   "id": "272652f2",
   "metadata": {},
   "outputs": [
    {
     "data": {
      "text/plain": [
       "'index col1  \\\\\\n0        1   \\n1        A   \\n2      <&>   \\n\\nindex       col2  \\n0            NaN  \\n1          4.179  \\n2      32000.000  '"
      ]
     },
     "execution_count": 99,
     "metadata": {},
     "output_type": "execute_result"
    }
   ],
   "source": [
    "df.to_string(line_width=2)"
   ]
  },
  {
   "cell_type": "code",
   "execution_count": 100,
   "id": "d345b485",
   "metadata": {},
   "outputs": [
    {
     "data": {
      "text/plain": [
       "'index col1  col2\\n0        1   NaN\\n1        A  4...\\n2      <&>  3...'"
      ]
     },
     "execution_count": 100,
     "metadata": {},
     "output_type": "execute_result"
    }
   ],
   "source": [
    "df.to_string(max_colwidth=5)"
   ]
  },
  {
   "cell_type": "markdown",
   "id": "9b7751e8",
   "metadata": {},
   "source": [
    "## numpy로 변환 (values)"
   ]
  },
  {
   "cell_type": "code",
   "execution_count": 110,
   "id": "dce73e73",
   "metadata": {},
   "outputs": [
    {
     "data": {
      "text/html": [
       "<div>\n",
       "<style scoped>\n",
       "    .dataframe tbody tr th:only-of-type {\n",
       "        vertical-align: middle;\n",
       "    }\n",
       "\n",
       "    .dataframe tbody tr th {\n",
       "        vertical-align: top;\n",
       "    }\n",
       "\n",
       "    .dataframe thead th {\n",
       "        text-align: right;\n",
       "    }\n",
       "</style>\n",
       "<table border=\"1\" class=\"dataframe\">\n",
       "  <thead>\n",
       "    <tr style=\"text-align: right;\">\n",
       "      <th></th>\n",
       "      <th>col1</th>\n",
       "      <th>col2</th>\n",
       "      <th>col3</th>\n",
       "      <th>col4</th>\n",
       "    </tr>\n",
       "  </thead>\n",
       "  <tbody>\n",
       "    <tr>\n",
       "      <th>row1</th>\n",
       "      <td>1</td>\n",
       "      <td>one</td>\n",
       "      <td>1.5</td>\n",
       "      <td>True</td>\n",
       "    </tr>\n",
       "    <tr>\n",
       "      <th>row2</th>\n",
       "      <td>2</td>\n",
       "      <td>two</td>\n",
       "      <td>2.5</td>\n",
       "      <td>False</td>\n",
       "    </tr>\n",
       "    <tr>\n",
       "      <th>row3</th>\n",
       "      <td>3</td>\n",
       "      <td>three</td>\n",
       "      <td>3.5</td>\n",
       "      <td>False</td>\n",
       "    </tr>\n",
       "    <tr>\n",
       "      <th>row4</th>\n",
       "      <td>4</td>\n",
       "      <td>four</td>\n",
       "      <td>4.5</td>\n",
       "      <td>True</td>\n",
       "    </tr>\n",
       "  </tbody>\n",
       "</table>\n",
       "</div>"
      ],
      "text/plain": [
       "      col1   col2  col3   col4\n",
       "row1     1    one   1.5   True\n",
       "row2     2    two   2.5  False\n",
       "row3     3  three   3.5  False\n",
       "row4     4   four   4.5   True"
      ]
     },
     "execution_count": 110,
     "metadata": {},
     "output_type": "execute_result"
    }
   ],
   "source": [
    "col1 = [1, 2, 3, 4]\n",
    "col2 = ['one', 'two', 'three', 'four']\n",
    "col3 = [1.5, 2.5, 3.5, 4.5]\n",
    "col4 = [True, False, False, True]\n",
    "index = ['row1','row2','row3','row4']\n",
    "df = pd.DataFrame(index=index, data={\"col1\": col1, \"col2\": col2, \"col3\": col3, \"col4\": col4})\n",
    "df"
   ]
  },
  {
   "cell_type": "code",
   "execution_count": 111,
   "id": "29bf6d7f",
   "metadata": {},
   "outputs": [
    {
     "data": {
      "text/plain": [
       "array([[1, 'one', 1.5, True],\n",
       "       [2, 'two', 2.5, False],\n",
       "       [3, 'three', 3.5, False],\n",
       "       [4, 'four', 4.5, True]], dtype=object)"
      ]
     },
     "execution_count": 111,
     "metadata": {},
     "output_type": "execute_result"
    }
   ],
   "source": [
    "df.values"
   ]
  },
  {
   "cell_type": "markdown",
   "id": "019a3f42",
   "metadata": {},
   "source": [
    "## dict에서 변환 (from_dict) "
   ]
  },
  {
   "cell_type": "markdown",
   "id": "cd9302d3",
   "metadata": {},
   "source": [
    "## "
   ]
  }
 ],
 "metadata": {
  "kernelspec": {
   "display_name": "Python 3 (ipykernel)",
   "language": "python",
   "name": "python3"
  },
  "language_info": {
   "codemirror_mode": {
    "name": "ipython",
    "version": 3
   },
   "file_extension": ".py",
   "mimetype": "text/x-python",
   "name": "python",
   "nbconvert_exporter": "python",
   "pygments_lexer": "ipython3",
   "version": "3.10.8"
  }
 },
 "nbformat": 4,
 "nbformat_minor": 5
}
